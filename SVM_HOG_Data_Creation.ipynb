{
 "cells": [
  {
   "cell_type": "code",
   "execution_count": null,
   "id": "778ff543",
   "metadata": {},
   "outputs": [],
   "source": [
    "import cv2\n",
    "import csv\n",
    "import numpy as np\n",
    "from skimage.feature import hog\n",
    "\n",
    "\n",
    "\n",
    "\n",
    "def adaptive_histogram_function(inputImage,enhancementLevel):\n",
    "    clahe = cv2.createCLAHE(clipLimit = enhancementLevel)\n",
    "    outputImage = clahe.apply(inputImage)\n",
    "    return outputImage\n",
    "\n",
    "\n",
    "\n",
    "f = open('training_set.csv', 'a',newline='')\n",
    "\n",
    "# create the csv writer\n",
    "writer = csv.writer(f)\n",
    "\n",
    "\n",
    "for i in range (10, 99):\n",
    "    # write a row to the csv file  \n",
    "    path=\"Training/glioma/Tr-gl_00\"+str(i)+\".jpg\"\n",
    "    print(path)\n",
    "    image = cv2.imread(path, cv2.IMREAD_GRAYSCALE)\n",
    "    output=adaptive_histogram_function(image,4.2)\n",
    "    output=cv2.resize(output,(127,127))\n",
    "    HOG=hog(output)\n",
    "    row=np.append(\"NO\",HOG)\n",
    "    writer.writerow(row)\n",
    "    \n",
    "f.close()"
   ]
  }
 ],
 "metadata": {
  "kernelspec": {
   "display_name": "Python 3 (ipykernel)",
   "language": "python",
   "name": "python3"
  },
  "language_info": {
   "codemirror_mode": {
    "name": "ipython",
    "version": 3
   },
   "file_extension": ".py",
   "mimetype": "text/x-python",
   "name": "python",
   "nbconvert_exporter": "python",
   "pygments_lexer": "ipython3",
   "version": "3.9.12"
  }
 },
 "nbformat": 4,
 "nbformat_minor": 5
}
